{
 "cells": [
  {
   "cell_type": "markdown",
   "metadata": {},
   "source": [
    "# SAGE Testing\n",
    "\n",
    "This tests the implementation of Sparse Additive Generative Model of Text (SAGE) on a small subset of our data."
   ]
  },
  {
   "cell_type": "code",
   "execution_count": 12,
   "metadata": {},
   "outputs": [],
   "source": [
    "import sage\n",
    "import pandas as pd\n",
    "import numpy as np\n",
    "import matplotlib.pyplot as plt\n",
    "from collections import Counter\n",
    "from ekphrasis.classes.preprocessor import TextPreProcessor\n",
    "from ekphrasis.classes.tokenizer import SocialTokenizer\n",
    "from ekphrasis.dicts.emoticons import emoticons\n",
    "%matplotlib inline\n",
    "\n",
    "flatten = lambda l: [item for sublist in l for item in sublist]"
   ]
  },
  {
   "cell_type": "code",
   "execution_count": 13,
   "metadata": {},
   "outputs": [
    {
     "name": "stdout",
     "output_type": "stream",
     "text": [
      "Reading english - 1grams ...\n",
      "Reading english - 2grams ...\n",
      "Reading english - 1grams ...\n"
     ]
    }
   ],
   "source": [
    "ekphrasis_processor = TextPreProcessor(\n",
    "    normalize=['url', 'email', 'percent', 'money', 'phone', 'user', 'time', 'date', 'number'],  # normalize terms\n",
    "    fix_html=True,  # fix HTML tokens  \n",
    "    segmenter=\"english\",  # corpus for word segmentation\n",
    "    corrector=\"english\",  # corpus for spell correction\n",
    "    unpack_hashtags=True,  # perform word segmentation on hashtags\n",
    "    unpack_contractions=True,  # unpack contractions \n",
    "    spell_correct_elong=False,  # spell correction for elongated words\n",
    "    tokenizer=SocialTokenizer(lowercase=False).tokenize,\n",
    "    dicts=[emoticons]  # replace emojis with words\n",
    ")"
   ]
  },
  {
   "cell_type": "code",
   "execution_count": 14,
   "metadata": {},
   "outputs": [],
   "source": [
    "train = pd.read_csv(\"/home/dfsnow/rbans/data/main_data_sample.csv\", nrows=100000)\n",
    "hate = pd.read_csv(\"/home/dfsnow/rbans/data/main_training_sample_hate.csv\", nrows=20000)"
   ]
  },
  {
   "cell_type": "code",
   "execution_count": 15,
   "metadata": {},
   "outputs": [],
   "source": [
    "train_counts = dict(Counter(flatten([(ekphrasis_processor.pre_process_doc(body)) for body in train.body])))\n",
    "hate_counts = dict(Counter(flatten([(ekphrasis_processor.pre_process_doc(body)) for body in hate.body])))"
   ]
  },
  {
   "cell_type": "code",
   "execution_count": 19,
   "metadata": {},
   "outputs": [],
   "source": [
    "hate_vocab = [word for word,count in Counter(hate_counts).most_common(3000)]"
   ]
  },
  {
   "cell_type": "code",
   "execution_count": 20,
   "metadata": {},
   "outputs": [],
   "source": [
    "x_hate = np.array([hate_counts.get(word,0) for word in hate_vocab])\n",
    "x_base = np.array([train_counts.get(word,0) for word in hate_vocab]) + 1."
   ]
  },
  {
   "cell_type": "code",
   "execution_count": 21,
   "metadata": {},
   "outputs": [],
   "source": [
    "mu = np.log(x_base) - np.log(x_base.sum())"
   ]
  },
  {
   "cell_type": "code",
   "execution_count": 22,
   "metadata": {},
   "outputs": [],
   "source": [
    "eta = sage.estimate(x_hate, mu)"
   ]
  },
  {
   "cell_type": "markdown",
   "metadata": {},
   "source": [
    "Print words that are especially frequent hate posts compared to baseline"
   ]
  },
  {
   "cell_type": "code",
   "execution_count": 24,
   "metadata": {},
   "outputs": [
    {
     "name": "stdout",
     "output_type": "stream",
     "text": [
      "['░', 'Flawed', '▓', 'spez', 'PIZZAGATE', '▒', 'systemFlawed', 'Bigot', 'niggers', 'wew', 'Voat', 'fatties', 'Gamergate', 'GamerGate', 'globalists', 'censors', 'centipede', 'nigger', 'voat', 'pizzagate', 'redacted', 'incel', 'cucks', 'PATRIOT', 'COAT', 'GG', 'lad', 'beef', 'KEK', 'KiA', 'illegals', 'Centipede', 'shitlord', 'MAGA', 'TRP', 'COATS', 'HANDED', 'devious1087', 'BotsByLiam', 'feminists', 'REAL', 'MGTOW', 'Romney', 'TRAIN', 'gamergate', 'SPEED', 'BMI', 'BRAKES', 'Cuck', 'CTR', 'cucked', 'FASTER', 'SOON', 'vaccinated', 'MPH', 'censorship', 'Wu', 'gamers', 'incels', 'Soros', 'BILLION', 'T_D', 'patriarchy', 'Merry', 'pedo', 'The_Donald', 'electors', 'feminist', 'CURRENT', 'THATS', 'cuck', 'Podesta', 'WON', 'globalist', 'RUNNING', 'STEAM', 'Tucker', 'Jews', 'IQ', 'SJW', 'misogyny', 'feminism', 'pedophile', 'coat', 'SJWs', 'Kek', 'Asians', 'the_donald', 'system', 'fatty', 'Chad', 'jew', 'pede', 'admins', 'vaccines', 'MSM', 'Pizzagate', 'accusation', 'gays', 'OUT']\n"
     ]
    }
   ],
   "source": [
    "print(sage.topK(eta,hate_vocab,100))"
   ]
  },
  {
   "cell_type": "markdown",
   "metadata": {},
   "source": [
    "Print words that are especially infrequent in hate posts"
   ]
  },
  {
   "cell_type": "code",
   "execution_count": 25,
   "metadata": {},
   "outputs": [
    {
     "name": "stdout",
     "output_type": "stream",
     "text": [
      "['players', '|', 'season', '%', '^^', 'player', '█', 'de', 'team', 'card', '3', '+', 'performed', '7', 'speed', 'match', '8', '6', 'series', 'moderators', 'app', 'k', 'play', '2', 'playing', '<annoyed>', 'luck', 'PC', 'concerns', '<tong>', 'damage', '<money>', 'played', 'available', 'Thanks', 'bought', 'game', 'compose', 'automatically', '<happy>', 'price', 'characters', '5', '<', 'recommend', 'box', 'thanks', 'submission', '&', 'submit', '0', 'contact', 'slow', 'trade', 'y', 'cheap', 'M', 'search', 'games', 'buying', 'drive', '<time>', 'sell', 'Happy', 'car', '1', 'sold', 'range', 'fun', 'questions', 'track', 'store', 'music', 'skills', 'depends', 'overall', 'flair', 'message', 'expensive', 'add', 'loved', 'base', 'bed', 'author', 'amazing', 'stuck', 'ship', 'weapons', 'build', '<laugh>', 'buy', 'annoying', 'regular', 'boss', 'helps', 'character', 'proper', 'fan', 'city', 'option']\n"
     ]
    }
   ],
   "source": [
    "print(sage.topK(-eta,hate_vocab,100))"
   ]
  },
  {
   "cell_type": "code",
   "execution_count": 26,
   "metadata": {},
   "outputs": [
    {
     "data": {
      "image/png": "[encoded data removed]",
      "text/plain": [
       "<Figure size 432x288 with 1 Axes>"
      ]
     },
     "metadata": {},
     "output_type": "display_data"
    }
   ],
   "source": [
    "plt.hist(eta,20);"
   ]
  },
  {
   "cell_type": "code",
   "execution_count": 27,
   "metadata": {},
   "outputs": [
    {
     "data": {
      "image/png": "[encoded data removed]",
      "text/plain": [
       "<Figure size 432x288 with 1 Axes>"
      ]
     },
     "metadata": {},
     "output_type": "display_data"
    }
   ],
   "source": [
    "plt.plot(sorted(eta));"
   ]
  }
 ],
 "metadata": {
  "kernelspec": {
   "display_name": "Python [default]",
   "language": "python",
   "name": "python3"
  },
  "language_info": {
   "codemirror_mode": {
    "name": "ipython",
    "version": 3
   },
   "file_extension": ".py",
   "mimetype": "text/x-python",
   "name": "python",
   "nbconvert_exporter": "python",
   "pygments_lexer": "ipython3",
   "version": "3.6.5"
  }
 },
 "nbformat": 4,
 "nbformat_minor": 1
}
