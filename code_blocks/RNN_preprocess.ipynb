{
 "cells": [
  {
   "cell_type": "code",
   "execution_count": 1,
   "metadata": {},
   "outputs": [],
   "source": [
    "import os\n",
    "import re\n",
    "import csv\n",
    "import sage\n",
    "import pandas as pd\n",
    "import numpy as np\n",
    "from multiprocessing import Pool, cpu_count\n",
    "from tqdm import tqdm, tqdm_notebook\n",
    "from collections import Counter\n",
    "from sklearn.model_selection import train_test_split\n",
    "from sklearn.utils import shuffle\n",
    "from ekphrasis.classes.preprocessor import TextPreProcessor\n",
    "from ekphrasis.classes.tokenizer import SocialTokenizer\n",
    "from ekphrasis.dicts.emoticons import emoticons\n",
    "\n",
    "tqdm.pandas(tqdm_notebook)\n",
    "data_path = \"/home/dfsnow/rbans/data/\""
   ]
  },
  {
   "cell_type": "code",
   "execution_count": 2,
   "metadata": {},
   "outputs": [
    {
     "name": "stdout",
     "output_type": "stream",
     "text": [
      "Reading english - 1grams ...\n",
      "Reading english - 2grams ...\n",
      "Reading english - 1grams ...\n"
     ]
    }
   ],
   "source": [
    "# Create ekphrasis preprocessor class\n",
    "ekphrasis_processor = TextPreProcessor(\n",
    "    normalize=['url', 'email', 'percent', 'money', 'phone', 'user', 'time', 'date', 'number'],  # normalize terms\n",
    "    fix_html=True,  # fix HTML tokens  \n",
    "    segmenter=\"english\",  # corpus for word segmentation\n",
    "    corrector=\"english\",  # corpus for spell correction\n",
    "    unpack_hashtags=True,  # perform word segmentation on hashtags\n",
    "    unpack_contractions=True,  # unpack contractions \n",
    "    spell_correct_elong=False,  # spell correction for elongated words\n",
    "    dicts=[emoticons]  # replace emojis with words\n",
    ")\n",
    "\n",
    "ekphrasis_tokenizer = SocialTokenizer(lowercase=True).tokenize\n",
    "flatten = lambda l: [item for sublist in l for item in sublist]"
   ]
  },
  {
   "cell_type": "markdown",
   "metadata": {},
   "source": [
    "## Shuffling\n",
    "\n",
    "This section is dedicated to ensuring that the sample drawn from Postgres is sufficiently shuffled."
   ]
  },
  {
   "cell_type": "code",
   "execution_count": null,
   "metadata": {},
   "outputs": [],
   "source": [
    "# Load the shuffled main training data into memory\n",
    "train = pd.read_csv(\n",
    "    os.path.join(data_path, \"main_data_sample.csv\"),\n",
    "    dtype={\"\":np.int64, \"id\": str, \"score\": str, \"body\": str, \"label\": int}\n",
    ")"
   ]
  },
  {
   "cell_type": "code",
   "execution_count": null,
   "metadata": {},
   "outputs": [],
   "source": [
    "# Shuffle all the training data to ensure a random distribution\n",
    "train = shuffle(train)"
   ]
  },
  {
   "cell_type": "code",
   "execution_count": null,
   "metadata": {},
   "outputs": [],
   "source": [
    "# Save the shuffled data to disk\n",
    "train.to_csv(os.path.join(data_path, \"main_data_shuffled.csv\"), quoting=csv.QUOTE_NONNUMERIC)"
   ]
  },
  {
   "cell_type": "markdown",
   "metadata": {},
   "source": [
    "## Preprocessing\n",
    "\n",
    "This section is dedicated to preprocessing all of the data using ekphrasis. Doing this in chunks is more efficient, since ekphrasis takes quite awhile to run. After processing all chunks, we concatenate them back together in the command line and load the cleaned data from here on."
   ]
  },
  {
   "cell_type": "code",
   "execution_count": null,
   "metadata": {},
   "outputs": [
    {
     "name": "stdout",
     "output_type": "stream",
     "text": [
      "{113600000, 88000000, 11200000, 36800000, 62400000, 139200000, 164800000, 190400000, 6900000, 82200000, 210200000, 184600000, 159000000, 110700000, 85100000, 136300000, 33900000, 8300000, 59500000, 161900000, 187500000, 213100000}\n"
     ]
    }
   ],
   "source": [
    "def read_iter(start_row):\n",
    "    chunksize = 100000\n",
    "    filename = int(start_row / chunksize)\n",
    "    shuffled_data = os.path.join(data_path, \"main_data_shuffled.csv\")\n",
    "    chunk = pd.read_csv(\n",
    "        shuffled_data, index_col=0, skiprows=start_row, nrows=chunksize,\n",
    "        names=[\"index\", \"id\", \"score\", \"body\", \"label\"],\n",
    "        dtype={\"index\": np.int64, \"id\": str, \"score\": str, \"body\": str, \"label\": int},\n",
    "    )\n",
    "    chunk[\"body\"] = chunk.body.map(ekphrasis_processor.pre_process_doc)\n",
    "    chunk.to_csv(\n",
    "        os.path.join(data_path, \"split/\" + str(filename).zfill(4) + \"_preprocessed_chunk.csv\"),\n",
    "        quoting=csv.QUOTE_NONNUMERIC,\n",
    "        header=False, index=False\n",
    "    )\n",
    "\n",
    "train_len = 229603257\n",
    "completed = [int(chunk[0:4]) * 100000 for chunk in os.listdir(os.path.join(data_path, 'split/'))] \n",
    "all_jobs = list(range(0, train_len, 100000))\n",
    "jobs = set(all_jobs) - set(completed)\n",
    "print(jobs)\n",
    "pool = Pool(cpu_count() - 1)\n",
    "pool.map(read_iter, jobs)"
   ]
  },
  {
   "cell_type": "markdown",
   "metadata": {},
   "source": [
    "## SAGE Filtering\n",
    "\n",
    "This section is dedicated to removing noise from our labelled posts. By using Sparse Additive Generative Model (SAGE), we can find words that are more common in hateful posts than in nonhateful posts. These words can be used as an initial filter for our training data by removing any \"hateful\" posts that do not container them. As a result, we filter out meaningless or nonspecific labelled posts and keep only the more specific language of hate."
   ]
  },
  {
   "cell_type": "code",
   "execution_count": 4,
   "metadata": {},
   "outputs": [],
   "source": [
    "# Load in the shuffled, preprocessed training data\n",
    "train = pd.read_csv(\n",
    "    os.path.join(data_path, \"main_data_preprocessed.csv\"),\n",
    "    dtype={\"id\": str, \"score\": str, \"body\": str, \"label\": int},\n",
    "    nrows=20000000\n",
    ")"
   ]
  },
  {
   "cell_type": "code",
   "execution_count": 5,
   "metadata": {},
   "outputs": [],
   "source": [
    "# Get word counts for the hate and non-hate samples, tokenizing with ekphrasis\n",
    "base_counts = dict(Counter(flatten([ekphrasis_tokenizer(str(body)) for body in train.loc[train.label == 0].body])))\n",
    "hate_counts = dict(Counter(flatten([ekphrasis_tokenizer(str(body)) for body in train.loc[train.label == 1].body])))"
   ]
  },
  {
   "cell_type": "code",
   "execution_count": 25,
   "metadata": {},
   "outputs": [],
   "source": [
    "# Get the most common hate words\n",
    "hate_vocab = [word for word,count in Counter(hate_counts).most_common(5000)]"
   ]
  },
  {
   "cell_type": "code",
   "execution_count": 26,
   "metadata": {},
   "outputs": [],
   "source": [
    "# Convert the counts into numerically comparable arrays\n",
    "hate_array = np.array([hate_counts.get(word, 0) for word in hate_vocab])\n",
    "base_array = np.array([base_counts.get(word, 0) for word in hate_vocab]) + 1."
   ]
  },
  {
   "cell_type": "code",
   "execution_count": 27,
   "metadata": {},
   "outputs": [
    {
     "name": "stdout",
     "output_type": "stream",
     "text": [
      "['botsbyliam', '⑆', 'newscnn', 'newsfake', 'spiritcooking', 'ᴇɴᴇʀɢʏ', 'gigwt', 'guessillgowiththis', 'ʜɪɢʜ', 'blmkidnapping', 'fakenews', '💡', 'devious1087', 'trumpire', '⃘', 'mnemosyne', '✡', 'goofus', '∫', '🇧', '🐛', '🇬', 'bimbos', 'pedes', '═(███)═', 'talcum', 'socjus', 'loretta', 'maga', 'spez', '⚡', 'tonysesek556', 'mgtow', 'centipedes', 'treason', 'pede', '__________________', 'warmonger', 'baiter', 'pocahontas', 'cucks', 'soros', 'cucked', 'botsrights', 'birdie', '┴', '🇺', 'crooked', 'rapist', 'btfo', '🇸', 'doke', 'centipede', 'cuck', 'niggers', '⢀', '⣿', 'cnn', '╝', 'liar', '╚', 'crybabies', 'softball', 'globalists', 'nist', 'arf', 'globalist', 'cringeanarchy', 'pizzagate', 'incel', 'awalt', 'infowars', 'huma', 'incels', 'fatties', 'unfit', 'shillary', 'pepe', 'gamergate', 'ghazi', 'bigot', 'supremacist', 'buzzfeed', 'huffington', 'kotakuinaction', 'deplorables', 'podesta', 'impeach', 'lyin', 'smv', 'msm', 'shitlords', 'mrm', 'parkinson', 'disavow', 'globalism', 'agg', 'milo', 'hams', 'comey', 'sjws', 'nigger', 'merkel', 'melania', 'ivanka', 'ctr', 'tucked', 'dicking', 'kia', 'archive', 'the_donald', 'redpill', 'imgoingtohellforthis', 'okie', 'ltr', 'cuckold', 'normies', 'kek', 'hannity', '💦', 'gawker', 'sjw', 'oliver', 'anita', 'wtc', 'pua', 'sarkeesian', 'shitlord', 'rat', 'illegals', 'trp', 'nimble', 'ी', 'faggots', 'coontown', 'kotaku', ';;;;', 'sweden', 'fake', 'assange', 'propaganda', 'leftists', 'wew', 'mras', 'feminists', 'evoke', 't_d', 'deport', 'kaine', 'pol', 'wikileaks', 'mra', 'recount', 'zionist', 'patriot', 'donald', 'े', '💯', 'marxism', 'censorship', 'pedophile', 'patriarchy', 'alimony', 'trumps', 'degenerate', 'feminist', 'pitcher', 'hillary', 'leftist', 'feminism', 'normie', 'multiculturalism', 'goddess', 'redacted', 'ा', 'pedo', 'comrade', 'lynch', 'trump', 'terrorist', 'tendies', 'क', 'polygon', 'isis', 'clinton', 'shilling', 'deported', 'obama', 'breitbart', 'brigading', 'fph', 'misogynist', 'stumped', 'obesity', 'conspiracies', 'pence', 'dweller', 'deplorable', 'zoe', 'betas', 'faggot', 'stump', 'voat', 'marxist', 'landslide', 'wu', '^^^', 'weiner', 'jew', 'kasich', 'clintons', 'news', 'shills', 'whites', 'doxxing', 'rallies', 'masculinity', 'liberals', 'jeb', 'mph', 'つ', '🐸', 'censoring', 'coats', 'sluts', 'misogyny', 'journalism', 'hamster', 'beef', 'libs', 'coat', 'nationalist', 'fatty', 'fascism', 'muh', 'liberalism', 'journalists', 'archived', 'weasel', 'blm', 'brainwashing', 'regressive', 'blacks', 'conspiracy', 'iraq', 'pill', 'anon', 'censor', 'jews', 'islam', 'fbi', '┬', 'barack', 'brainwashed', 'censored', 'rnc', 'misogynistic', 'msnbc', 'emperor', 'fascists', 'protestors', 'fag', 'benghazi', 'pedophiles', 'shill', 'madman', 'hispanics', 'cruz', 'gg', 'rapes', 'hoax', 'harassment', 'ballots', '☭', 'africans', 'cia', 'chad', 'colorado', 'males', 'correctness', 'racist', 'corruption', 'gop', 'pedophilia', 'accusations', 'sexist', 'president', 'shitposting', 'activist', 'women', 'rubio', 'potus', 'sharia', 'commie', 'pig', 'santa', 'retards', 'gentleman', 'romney', 'rape', 'raping', 'journalist', 'rigging', 'jfk', 'establishment', 'slander', 'boycott', 'evan', 'hrc', 'admins', 'dems', 'pentagon', 'tweets', 'kkk', 'tolerant', '🐍', '◕', 'communists', 'cooking', 'oppressed', 'whores', 'equality', 'migrants', 'liberal', 'ideology', 'fascist', 'election', 'capitalism', 'asians', 'rapists', 'brakes', 'ted', 'loser', '👌', 'trudeau', 'accusation', 'shaming', 'agenda', 'privilege', 'bing', 'diversity', 'radical', 'spicy', 'authoritarian', 'ideological', 'mexicans', 'nyt', 'chan', 'supporter', 'mens', 'men', 'oppression', 'racists', 'protesters', 'boop', 'affirmative', 'mccain', 'narrative', '༽', 'jewish', 'elites', 'raped', 'iq', 'corrupt', 'snowden', 'hashtag', 'females', 'sexism', 'nationalism', 'hypocrisy', 'ethics', 'rally', 'dnc', 'lesbians', 'masculine', 'dissonance', 'activists', 'communism', 'democrat', 'ideologies', 'racism', 'traitor', '__', 'rigged', 'endorsed', 'archives', 'muslim', 'libya', 'media', 'privileged', 'holocaust', 'muslims', 'outrage', 'gays', 'victims', 'immigrant', 'communist', 'vaccines', 'europeans', 'circumcision', 'immigration', '🔥', 'supporters', '༼', 'refugees', 'swamp', 'nigga', 'shithole', 'investigation', 'obese', 'putin', 'reborn', 'hispanic', 'retard', 'progressives', 'satire', 'illuminati', 'supremacy', 'genders', 'discredit', 'islamic', 'harassed', 'vaccine', 'allegations', 'bmi', 'pandering', 'losers', 'chicks', 'slut', 'pardon', 'riots', 'triggering', 'reagan', 'gamers', 'srs', 'validation', 'hilary', 'wives', 'refugee', 'exposing', 'fat', 'leaks', 'reporters', 'pussies', 'speech', 'immigrants', 'ft', 'polls', 'male', 'murderer', 'hitler', 'biden', 'minorities', 'voter', 'emails', 'cringey', 'socialists', 'brigade', 'usernames', 'societies', 'gender', 'beep', 'virtue', 'vote', 'cunt', 'spirit', 'administrative', 'tweet', 'snowflake', 'woman', 'reactionary', 'brexit', 'disgusting', 'fraud', 'smear', 'george', 'protesting', 'bigots', 'harassing', 'alpha', 'fathers', 'stalin', 'donors', 'presidency', 'alleged', 'dishonest', 'errors', 'outlets', 'delegates', 'saudi', 'nominee', 'endorse', 'racial', 'mainstream', 'twitter', 'debates', 'civilization', 'trans', 'socialism', 'triggered', 'feminine', 'terrorists', 'pussy', 'genes', 'unethical', 'testosterone', 'accused', 'cringe', 'violence', 'divorce', 'retarded', 'legacy', 'terrorism', 'cunts', 'transgender', '😂', 'credibility', 'tweeted', 'bitches', 'politically', 'democrats', 'scum', 'israel', 'victim', 'pathetic', 'scandal', 'collapse', 'whore', 'presidential', 'ethnic', 'extremist', 'marx', 'white', 'liars', '\\xad', 'elect', 'protests', 'nazis', 'marco', 'puppet', 'homophobic', 'np', 'billionaire', 'garbage', 'truths', 'female', 'america', 'cis', 'speeches', '🎃', 'socialist', '#[', 'reporter', 'stein', 'genocide', '═', 'identified', 'extremists', 'genetics', 'criminal', 'jill', 'autism', 'memes', 'bigoted', 'secretary', 'voting', 'welfare', 'fap', 'shitpost', 'crimes', 'arabia', 'sanders', 'nazi', 'energy', '$$', 'butthurt', 'vagina', 'bernie', 'justice', 'manipulated', 'petition', 'expose', 'ideals', 'poll', 'john', 'anti', 'airplane', 'failing', 'cultural', 'arabs', 'quinn', 'vile', 'founding', 'conservatives', 'debate', 'sexual', 'govt', 'custody', 'society', 'protest', 'openly', 'rhetoric', 'carson', 'polling', 'electoral', 'gamer', 'assaulted', 'discourse', 'bigotry', 'nsa', 'autistic', 'fuckers', 'political', 'culturally', 'pile', 'lad', 'credible', 'oppressive', 'ethnicity', 'unattractive', 'culture', 'politics', 'domestic', 'lady', 'masses', 'threats', 'conservative', 'flawed', 'meme', 'attorney', 'idiots', 'nomination', 'hypocritical', 'republican', 'united', 'truth', 'lesbian', 'mocking', 'obamacare', 'lies', 'identity', 'uneducated', 'rand', 'african', 'chick', 'russians', 'france', 'germans', 'homosexual', 'slaves', 'delusional', 'disgusted', 'compromised', 'bullshit', 'ancestors', 'faced', 'criminals', 'dread', 'controversy', 'hatred', 'genetic', 'borders', 'ballot', 'politician', 'entitlement', 'mothers', 'fucks', 'libertarian', 'violent', 'politicians', 'bush', 'whale', 'campaign', 'genius', 'opposition', 'israeli', 'overweight', 'bill', 'biological', 'neo', 'consent', 'progressive', 'hypocrite', 'unbiased', 'articles', 'backlash', 'amendment', 'foundation', 'americans', 'false', 'turnout', 'approximately', 'peaceful', 'mexico', 'donated', 'advocating', 'blatant', 'disagrees', 'citizenship', 'banned', 'administration', 'acceptance', 'gov', 'intellectual', 'elected', 'societal', 'russia', 'manipulation', 'bullying', 'insults', 'vp', 'africa', 'sexually', 'criticize', 'jail', 'primaries', 'disclaimer', 'gtfo', 'revolution', 'tpp', 'irony', 'portfolio', 'criticizing', 'slavery', 'convention', 'usa', 'sympathy', 'hateful', 'folks', 'european', 'funded', 'homosexuality', 'shares', 'hating', 'europe', 'frog', 'celebrities', 'prison', 'headlines', 'reporting', 'banning', 'accountable', 'elections', 'syria', 'despise', 'cognitive', 'chess', 'discrimination', 'bias', 'slave', 'syrian', 'oppose', 'cultures', 'facts', 'illegally', 'evidence', 'ceo', 'minority', 'crime', 'asian', 'blamed', 'democracy', 'pao', 'hollywood', 'social', 'voters', 'trolling', 'strawman', 'votes', 'candidate', 'presidents', 'rp', 'studies', 'factual', 'race', 'furry', 'founded', 'demographics', 'western', 'stupidity', 'harass', 'spreading', 'domain', 'rampant', 'fam', 'nation', 'snapshillbot', 'convicted', 'rights', 'accusing', 'marriage', 'nonsense', 'demographic', 'senator', 'tactic', 'don', 'citizens', 'integrity', 'bitch', 'rational', 'virgin', 'intelligence', 'arab', 'socially', 'ethical', 'promoting', 'leaders', 'aids', 'democratic', 'publicly', 'governments', 'stickied', 'disagreement', 'terror', 'shootings', 'freedom', 'admitting', 'iran', 'universities', 'states', 'constitution', 'views', 'lgbt', 'leaked', 'michelle', 'girls', 'participation', 'construct', 'threatened', 'evil', 'allah', 'commit', 'gay', 'manipulate', 'sane', 'troll', 'controlled', 'shes', 'divide', 'behaviors', 'blaming', 'offended', 'sexuality', 'peer', 'alt', 'voted', 'corporations', 'incapable', 'policies', 'attractive', 'followers', 'stereotypes', 'pretending', 'capitalist', 'attacked', 'wing', 'illegal', 'subs', 'labeled', 'attracted', 'train', 'remaining', 'prejudice', 'claims', 'camps', '_', 'sex', 'accuse', 'asses', 'principles', 'proves', 'movement', 'parody', 'fucking', 'fellow', 'flag', 'fox', 'murdered', 'problematic', 'clickbait', 'insult', 'moron', 'ironic', 'divided', 'classified', '✔', 'wisconsin', 'liberty', 'american', 'edgy', 'minds', 'fallacy', 'government', 'soviet', 'children', 'yourselves', 'subscribers', 'germany', 'christianity', 'beta', 'colleges', 'revolutionary', 'themselves', 'affairs', 'populations', 'merit', 'bombing', 'donations', 'mexican', 'afghanistan', 'insanity', 'anonymous', 'marry', 'arrested', 'basement', 'quo', 'claiming', 'morons', 'beliefs', 'article', 'wi', 'mock', 'idiotic', 'relations', 'height', 'lied', '👀', 'seth', 'educate', 'harper', 'nations', 'bbc', 'skinny', 'morality', 'ussr', 'republicans', 'assad', 'advocate', 'veterans', 'identify', 'ham', 'executive', 'mentality', 'courts', 'upvotes', 'misinformation', 'innocent', 'supporting', 'boys', 'righteous', 'dismiss', 'daughters', 'commitment', 'mentally', 'agencies', 'lying', 'apology', 'sli', '”', 'diverse', 'coup', 'christians', 'smug', 'senate', 'lie', 'suspicious', 'attraction', 'murders', 'tinder', 'controversial', 'ron', '‘', 'believes', 'proving', 'congress', 'suggestions', 'believing', 'daddy', 'admitted', 'symbol', 'country', 'tactics', 'committing', 'educated', 'assault', 'behave', '“', 'arrest', 'standards', 'suicide', 'desperate', 'reported', 'stereotype', 'indians', 'exposed', 'protect', 'publish', 'loaded', 'sticky', 'heritage', 'ww2', 'ugly', 'swedish', 'proven', 'immoral', 'trolls', 'institutions', 'wall', 'religion', 'fucked', 'dank', 'celebrity', 'amen', 'entitled', 'questioning', 'flags', 'constitutional', 'threaten', 'foreign', 'national', 'denial', 'fetish', 'documents', 'cult', 'poland', 'pisses', 'biased', 'phenomenon', 'citizen', 'whining', 'millions', 'newspaper', 'stem', 'disturbing', 'reality', 'arguments', 'behavior', 'lawsuit', 'collective', 'donate', 'behalf', 'teeth', 'sub', 'interests', 'individuals', 'moral', 'herself', 'ironically', 'governor', 'reject', 'whine', 'washington', 'intelligent', 'conclusions', 'moderate', 'defend', 'implying', 'laid', 'brains', 'nukes', 'claim', 'severely', 'married', 'legally', 'california', 'sore', 'hates', 'families', 'demands', 'authorities', 'countries', 'nasa', 'sue', 'posters', 'christian', 'decades', 'pope', 'britain', 'officials', 'tolerate', 'communities', 'disagreeing', 'bless', 'federal', 'hormones', 'moderation', 'biology', 'minded', 'equal', 'denying', 'u.s.', 'literal', 'fools', 'prominent', 'population', 'cancer', 'candidates', 'rich', 'statistics', 'morals', 'hate', 'russian', 'sons', 'perceived', 'dare', 'proud', 'shitting', 'behaviour', 'guilt', 'chamber', 'jet', 'insane', 'destroy', 'defending', 'denied', 'favors', '___', 'laws', 'funding', 'alex', 'pigs', 'abortion', 'anger', 'theories', 'sources', 'nerd', 'encouraging', 'traits', 'ruling', 'nasty', 'guilty', 'unbelievable', 'destroying', 'billion', 'acknowledge', 'increasingly', 'pretend', 'promote', 'committed', 'proof', 'influence', 'coincidence', 'statements', 'criticism', 'speaks', 'armed', 'military', 'bashing', 'association', 'police', 'lmfao', 'organizations', 'bp', 'campaigns', 'claimed', 'fucker', 'abuse', 'responsibility', 'worship', 'investigate', 'gene', 'utter', 'headline', 'savage', 'bs', 'enforcement', 'ourselves', 'lawyers', 'victory', 'plane', 'law', 'penis', 'abused', '😍', 'praise', 'shit', 'cabinet', 'belong', 'ignorant', 'dna', 'calling', '*^(', 'races', 'psychological', 'report', 'deliberately', 'hacked', 'border', 'awareness', 'links', 'echo', 'ohio', 'consequences', 'authority', 'deny', 'york', 'pity', 'subreddits', 'empathy', 'comprehend', 'protecting', 'groups', 'ashamed', 'contrary', 'professors', 'blah', 'centuries', 'opinions', 'notion', 'scientific', 'declared', 'protected', 'conclusion', 'actions', 'idiot', 'prove', 'associate', 'hostile', 'committee', 'definitions', 'leadership', 'morally', 'wealthy', 'respect', '’', 'scientists', 'targeted', 'ladies', 'insulting', 'gee', 'peace', 'demanding', 'mental', 'glorious', 'dictionary', 'stance', 'responsible', 'child', 'verify', 'clicks', 'threatening', 'doesn', 'bully', 'basket', 'murder', 'outright', 'threat', 'she', 'religions', 'beings', 'dudes', 'mindset', 'corporate', 'brave', 'economic', 'efforts', 'destruction', 'dominated', 'status', 'agrees', 'lives', 'percent', 'excuses', 'ought', 'values', 'peoples', 'reform', 'institution', 'independent', 'critics', 'harmful', 'paul', 'crisis', 'outlet', 'assholes', 'porn', 'reached', 'ignorance', 'subjects', 'disorder', 'inherently', 'climate', 'utterly', 'invented', 'illness', 'black', 'wealth', 'civil', 'public', 'secretly', 'believed', 'meanwhile', 'shut', 'act', 'war', 'linking', 'logic', 'loyal', 'verified', 'motherfucker', 'tumblr', 'ego', 'spite', 'wikipedia', 'organization', 'estimated', 'million', 'contained', 'irrational', 'enforce', 'warming', 'blatantly', 'chief', 'education', 'poverty', 'writes', 'academic', 'university', 'shouting', 'failure', 'facebook', 'myth', 'justification', 'charity', 'eastern', 'supported', 'dumbass', 'lifting', 'bitching', 'presented', '*^#', 'debating', 'minister', 'quote', 'generations', 'banking', 'cares', 'regime', 'supports', '<user>', 'kelly', 'skeptical', 'fb', 'deleting', 'cartoon', 'worthless', 'logical', 'treated', 'atheism', 'sheep', 'humanity', 'silence', 'merely', 'ties', 'birth', 'addressing', 'topics', 'convincing', 'disregard', 'fuck', 'refuse', 'opposing', 'signs', 'judges', 'thousands', 'movements', 'mass', 'virginia', 'wife', 'seek', 'incompetent', 'naive', 'taller', 'mob', 'majority', 'burden', 'supposedly', 'thinks', 'history', 'bait', 'corporation', 'spread', 'tribe', 'upvoted', 'encouraged', '\\\\', 'respectful', 'former', 'audience', 'ny', 'aggression', 'fired', 'begging', 'peers', 'her', 'feet', 'leaning', 'ruled', 'convince', 'iowa', 'ban', 'agreeing', 'argued', 'dem', 'concern', 'didn', 'precisely', 'expression', 'smarter', 'definition', 'respected', 'label', 'loyalty', 'shocking', 'billions', 'readers', 'cops', 'state', 'representation', 'intentions', 'incident', 'florida', 'cock', 'embrace', 'reports', 'represented', 'extreme', 'inferior', 'unhealthy', 'pr', 'informed', 'proved', 'hilarious', 'pushing', 'dicks', 'stupid', 'irrelevant', 'discussing', 'published', 'sentence', 'jobs', 'raising', 'backed', 'registered', 'november', 'satan', 'pride', 'industry', 'county', 'syndrome', 'allies', 'tears', 'argument', 'leak', 'healthy', 'declare', 'legal', 'girl', 'desire', 'legitimate', 'seeking', 'nuclear', 'blame', 'attract', 'sad', 'legislation', 'policy', 'filthy', 'twisted', 'among', 'fear', 'fought', 'court', 'critical', 'operation', 'arguing', 'agents', 'leader', 'attacking', 'viewed', 'harm', 'historically', 'fool', 'amongst', 'persons', 'organized', 'talks', 'religious', 'who', ';s', 'republic', 'workers', 'agency', 'christ', 'aliens', 'engage', 'angry', 'differences', 'document', 'clown', 'ignoring', 'rise', 'digging', 'treating', 'their', 'awards', 'theory', 'shame', 'pa', 'covering', 'correlation', 'olds', 'genuine', 'employed', 'businesses', 'hahahaha', 'childish', 'qualified', 'bizarre', 'laughing', 'handed', 'plausible', 'shall', 'born', 'damaging', 'sides', 'sites', 'streets', 'sentiment', 'literally', 'typical', 'century', 'wants', 'refusing', 'tits', 'documentary', 'foolish', 'labels', 'accepting', 'truly', 'deeply', 'press', 'babies', 'against', 'mr', 'lawyer', 'human', 'spectrum', 'spaces', 'papers', 'lifestyle', 'attempting', 'worthy', 'fuckin', 'statement', 'admit', 'speak', 'describes', 'mods', 'kidding', 'org', 'disagree', 'statistically', 'pointing', 'global', 'emotional', 'bend', 'self', 'internet', 'vice', 'actively', 'obsessed', 'forum', 'attention', 'ftfy', 'inevitable', 'admin', 'pounds', 'independence', 'desperately', 'quoted', 'belief', 'bodies', 'becoming', 'wtf', 'insecure', 'nato', 'sentences', 'justified', 'positions', 'vast', 'honor', 'dating', 'believe', 'nuke', 'officially', 'forced', 'stating', 'created', 'repeating', 'rejected', 'networks', 'witness', 'represents', 'insist', 'dumb', 'exists', 'indian', 'intent', 'funny', 'accomplished', 'ffs', 'condescending', 'raised', 'petty', 'linked', 'invasion', 'neutral', 'disease', 'study', 'excuse', 'word', 'meaningless', 'obvious', 'catholic', 'belongs', 'mere', 'controlling', 'experts', 'trusted', 'ama', 'supreme', 'force', 'remain', 'nature', 'principle', 'atheist', 'healthcare', 'imply', 'motivated', 'philosophy', 'labor', 'ben', 'fed', 'upvote', 'words', 'people', 'parties', 'conflict', 'hobbies', 'toxic', 'deserve', 'campus', 'judge', 'destroyed', 'these', 'economy', 'father', 'accept', 'represent', 'man', 'ignore', 'become', 'warfare', 'jones', 'promises', 'east', 'left', 'associated', 'engaging', 'gaming', 'influenced', 'real', 'winning', 'laugh', 'freely', 'succeed', 'understands', 'favor', 'suspect', 'piss', 'tolerance', '—', 'owns', 'holy', 'celebrate', 'downvoting', 'secret', 'us', 'existence', 'acts', 'exist', 'decline', 'involved', 'privacy', 'sick', 'shits', 'quot', 'acting', 'gang', 'spin', 'manner', 'shady', 'reddit', 'reviewed', 'fields', 'gross', 'cry', 'world', 'emotion', 'sells', 'psychology', 'thrown', 'german', 'career', 'wrote', 'm', 'ignored', 'voices', 'party', 'realize', 'shocked', 'generation', 'wonder', '▒', 'equally', 'officers', 'acceptable', 'industrial', 'fact', 'faces', 'laughed', 'support', 'interview', 'artist', 'term', 'telling', 'goddamn', 'contribute', 'group', 'pro', 'relationships', 'attacks', 'dick', 'joke', 'according', 'private', 'jesus', 'argue', 'china', 'kids', 'guy', 'saying', 'they', 'our', '\"', 'own', 'based', 'actual', 'seriously', 'clearly', 'posts', 'himself', 'true', 'we', 'modern', 'happening', 'ideas', 'deleted', 'being', 'knows', 'welcome', 'speaking', 'nor', 'lmao', 'says', 'nobody', 'hide', 'security', 'hundreds', 'control', 'physically', 'whose', 'justify', 'matters', 'cannot', 'college', 'discussion', 'pissed', 'stopping', 'fund', 'crying', 'discuss', 'successful', 'phrase', 'humor', 'afraid', 'footage', 'ass', 'apologize', 'silent', 'youth', 'trend', 'ryan', 'spoken', 'professor', 'economics', 'productive', 'largely', 'con', 'unrelated', 'abusive', 'reputation', 'legitimately', 'aka', 'form', 'genuinely', 'danger', 'representative', 'numerous', 'reserve', 'native', 'adults', 'paranoid', 'member', 'analogy', 'frankly', 'television', 'treat', 'mentions', 'pizza', 'backing', 'dressed', 'inner', 'stand', 'weak', 'appeal', 'waking', 'counted', 'care', 'arts', 'straw', 'attempted', 'eric', 'convinced', 'misleading', 'patriots', 'sucking', 'naturally', 'disaster', 'email', 'served', 'rekt', 'primary', 'establish', 'simultaneously', 'thin', 'placed', 'hers', 'dear', 'drain', 'miserable', 'refuses', 'outcome', 'roles', 'sarcasm', 'screaming', 'suffering', 'hire', 'theyre', 'coal', 'fence', 'hiding', 'expense', 'attempt', 'discussed', 'sake', 'aid', 'dangerous', 'revealed', 'financially', 'torture', 'plates', 'paragraph', 'viewing', 'pursue', 'superior', 'ain', 'implies', 'slightest', 'italy', 'lifetime', 'taught', 'flood', 'illusion', 'wage', 'rant', 'realizing', 'financial', 'emotions', 'figures', 'caring', 'daughter', 'ukraine', 'honesty', 'overwhelming', 'charges', 'atheists', 'requested', 'register', 'bitter', 'premise', 'bots', 'michigan', 'response', 'absurd', 'hired', 'planes', 'consciousness', 'frame', 'union', 'fundamental', 'surprise', 'failed', 'resort', 'hiring', 'environmental', 'matter', 'writer', 'scam', 'historical', 'rising', 'actors', 'slap', 'woke', 'circlejerk', 'discipline', 'objectively', 'broad', 'crowd', 'connections', 'proposed', 'spinning', 'civilians', 'west', 'ruining', 'wages', 'punished', 'guns', 'preventing', 'soldiers', 'teenage', 'norm', 'ten', 'martial', 'define', 'embarrassing', 'nut', 'serves', 'importance', 'barry', 'teens', 'spoke', 'greater', 'basis', 'regard', 'emotionally', 'virtually', 'serving', 'district', 'simply', 'upon', 'uncle', 'creepy', 'leading', 'jury', 'intentionally', 'suffered', 'perception', 'express', 'damned', 'asshole', 'coverage', 'therefore', 'websites', 'sarcastic', 'repeated', 'conduct', 'firefox', 'magazine', 'accurately', 'towers', 'distinction', 'whatsoever', 'entertainment', 'hacking', 'solely', 'punishment', 'fascinating', 'department']\n"
     ]
    }
   ],
   "source": [
    "# Use the SAGE algorithm to get the top K words from hate subs\n",
    "mu = np.log(base_array) - np.log(base_array.sum())\n",
    "beta = sage.estimate(hate_array, mu)\n",
    "hate_words = sage.topK(beta, hate_vocab, 2000)\n",
    "print(hate_words)"
   ]
  },
  {
   "cell_type": "code",
   "execution_count": 28,
   "metadata": {},
   "outputs": [],
   "source": [
    "# Save the hate words to a list CSV\n",
    "with open(os.path.join(data_path, \"hate_words.csv\"), \"w\") as f:\n",
    "    writer = csv.writer(f)\n",
    "    for word in hate_words:\n",
    "        writer.writerow([word])"
   ]
  },
  {
   "cell_type": "markdown",
   "metadata": {},
   "source": [
    "### Filtering Step"
   ]
  },
  {
   "cell_type": "code",
   "execution_count": null,
   "metadata": {},
   "outputs": [],
   "source": [
    "train = pd.read_csv(\n",
    "    os.path.join(data_path, \"main_data_preprocessed.csv\"),\n",
    "    dtype={\"id\": str, \"score\": str, \"body\": str, \"label\": int}\n",
    ")\n",
    "hate_words = pd.read_csv(\n",
    "    os.path.join(data_path, \"hate_words.csv\"),\n",
    "    names=[\"word\"],\n",
    "    squeeze=True\n",
    ").tolist()"
   ]
  },
  {
   "cell_type": "code",
   "execution_count": null,
   "metadata": {},
   "outputs": [],
   "source": [
    "# Number of hateful posts prefiltering\n",
    "train.label.sum()"
   ]
  },
  {
   "cell_type": "code",
   "execution_count": 32,
   "metadata": {},
   "outputs": [
    {
     "data": {
      "text/plain": [
       "1760"
      ]
     },
     "execution_count": 32,
     "metadata": {},
     "output_type": "execute_result"
    }
   ],
   "source": [
    "# Filter out the chaff posts from hateful posts using SAGE\n",
    "train = train.loc[\n",
    "    (train.label == 1 & train.body.str.contains('|'.join(re.escape(w) for w in hate_words), case=False)) |\n",
    "    (train.label == 0)]\n",
    "\n",
    "train.label.sum()"
   ]
  },
  {
   "cell_type": "code",
   "execution_count": null,
   "metadata": {},
   "outputs": [],
   "source": [
    "train.to_csv(os.path.join(data_path, \"main_data_filtered.csv\"), quoting=csv.QUOTE_NONNUMERIC)"
   ]
  },
  {
   "cell_type": "markdown",
   "metadata": {},
   "source": [
    "## Splitting\n",
    "\n",
    "Splitting the data into train, test, and validate using an 80, 20, 20 split"
   ]
  },
  {
   "cell_type": "code",
   "execution_count": null,
   "metadata": {},
   "outputs": [],
   "source": [
    "# Split hate and nonhate datasets into train, test, and validate\n",
    "train, test = train_test_split(train, test_size=0.2, random_state=2) \n",
    "train, validate = train_test_split(train, test_size=0.2, random_state=2) "
   ]
  },
  {
   "cell_type": "code",
   "execution_count": null,
   "metadata": {},
   "outputs": [],
   "source": [
    "# Save train test and validate to CSV\n",
    "train.to_csv(os.path.join(data_path, \"main_train.csv\"), index=False)\n",
    "test.to_csv(os.path.join(data_path, \"main_test.csv\"), index=False)\n",
    "validate.to_csv(os.path.join(data_path, \"main_validate.csv\"), index=False)"
   ]
  }
 ],
 "metadata": {
  "kernelspec": {
   "display_name": "Python [conda env:pytorch_cuda_9.0]",
   "language": "python",
   "name": "conda-env-pytorch_cuda_9.0-py"
  },
  "language_info": {
   "codemirror_mode": {
    "name": "ipython",
    "version": 3
   },
   "file_extension": ".py",
   "mimetype": "text/x-python",
   "name": "python",
   "nbconvert_exporter": "python",
   "pygments_lexer": "ipython3",
   "version": "3.6.5"
  }
 },
 "nbformat": 4,
 "nbformat_minor": 2
}
