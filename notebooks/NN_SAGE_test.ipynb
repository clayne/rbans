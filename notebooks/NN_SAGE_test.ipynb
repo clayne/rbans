{
 "cells": [
  {
   "cell_type": "markdown",
   "metadata": {},
   "source": [
    "# SAGE Testing\n",
    "\n",
    "This tests the implementation of Sparse Additive Generative Model of Text (SAGE) on a small subset of our data."
   ]
  },
  {
   "cell_type": "code",
   "execution_count": 1,
   "metadata": {},
   "outputs": [],
   "source": [
    "import sys, os\n",
    "import pandas as pd\n",
    "import numpy as np\n",
    "import matplotlib.pyplot as plt\n",
    "from collections import Counter\n",
    "from ekphrasis.classes.preprocessor import TextPreProcessor\n",
    "from ekphrasis.classes.tokenizer import SocialTokenizer\n",
    "from ekphrasis.dicts.emoticons import emoticons\n",
    "%matplotlib inline\n",
    "\n",
    "sys.path.append(\"../src\")\n",
    "import sage\n",
    "\n",
    "flatten = lambda l: [item for sublist in l for item in sublist]"
   ]
  },
  {
   "cell_type": "code",
   "execution_count": 2,
   "metadata": {},
   "outputs": [
    {
     "name": "stdout",
     "output_type": "stream",
     "text": [
      "Reading english - 1grams ...\n",
      "Reading english - 2grams ...\n",
      "Reading english - 1grams ...\n"
     ]
    }
   ],
   "source": [
    "ekphrasis_processor = TextPreProcessor(\n",
    "    normalize=['url', 'email', 'percent', 'money', 'phone', 'user', 'time', 'date', 'number'],  # normalize terms\n",
    "    fix_html=True,  # fix HTML tokens  \n",
    "    segmenter=\"english\",  # corpus for word segmentation\n",
    "    corrector=\"english\",  # corpus for spell correction\n",
    "    unpack_hashtags=True,  # perform word segmentation on hashtags\n",
    "    unpack_contractions=True,  # unpack contractions \n",
    "    spell_correct_elong=False,  # spell correction for elongated words\n",
    "    tokenizer=SocialTokenizer(lowercase=True).tokenize,  # tokenize words \n",
    "    dicts=[emoticons]  # replace emojis with words\n",
    ")"
   ]
  },
  {
   "cell_type": "code",
   "execution_count": 3,
   "metadata": {},
   "outputs": [],
   "source": [
    "train = pd.read_csv(\"/home/dfsnow/rbans/data/main_data_sample.csv\", nrows=100000)\n",
    "hate = pd.read_csv(\"/home/dfsnow/rbans/data/test_training_sample_hate.csv\", nrows=20000)"
   ]
  },
  {
   "cell_type": "code",
   "execution_count": 4,
   "metadata": {},
   "outputs": [],
   "source": [
    "train_counts = dict(Counter(flatten([(ekphrasis_processor.pre_process_doc(body)) for body in train.body])))\n",
    "hate_counts = dict(Counter(flatten([(ekphrasis_processor.pre_process_doc(body)) for body in hate.body])))"
   ]
  },
  {
   "cell_type": "code",
   "execution_count": 5,
   "metadata": {},
   "outputs": [],
   "source": [
    "hate_vocab = [word for word,count in Counter(hate_counts).most_common(3000)]"
   ]
  },
  {
   "cell_type": "code",
   "execution_count": 6,
   "metadata": {},
   "outputs": [],
   "source": [
    "x_hate = np.array([hate_counts.get(word,0) for word in hate_vocab])\n",
    "x_base = np.array([train_counts.get(word,0) for word in hate_vocab]) + 1."
   ]
  },
  {
   "cell_type": "code",
   "execution_count": 7,
   "metadata": {},
   "outputs": [],
   "source": [
    "mu = np.log(x_base) - np.log(x_base.sum())"
   ]
  },
  {
   "cell_type": "code",
   "execution_count": 8,
   "metadata": {},
   "outputs": [],
   "source": [
    "eta = sage.estimate(x_hate, mu)"
   ]
  },
  {
   "cell_type": "markdown",
   "metadata": {},
   "source": [
    "Print words that are especially frequent hate posts compared to baseline"
   ]
  },
  {
   "cell_type": "code",
   "execution_count": 9,
   "metadata": {},
   "outputs": [
    {
     "name": "stdout",
     "output_type": "stream",
     "text": [
      "['░', '▓', '▒', 'spez', 'systemflawed', 'flawed', 'niggers', 'fatties', 'voat', 'hams', 'bigot', 'globalists', 'wew', 'gamergate', 'pizzagate', 'redpill', 'censors', 'shitlords', 'cucks', 'centipede', 'redacted', 'anita', 'lad', 'concessions', 'lightening', 'incel', 'nigger', 'shitlord', 'illegals', 'maga', 'trp', 'bmi', 'recount', 'devious1087', 'botsbyliam', 'cucked', 'centipedes', 'feminists', 'ctr', 'patriarchy', 'vaccinated', 'gawker', 'archived', 'romney', 'gg', 'kia', 'mgtow', 'incels', 'censorship', 'patriot', 'electors', 'soros', 'cuck', 'merry', 'satanic', 'the_donald', 'feminist', 't_d', 'pedo', 'normies', 'coat', 'iq', 'tucker', 'kek', 'sjw', 'gamers', 'feminism', 'globalism', 'brigading', 'misogyny', 'globalist', 'fatty', 'pedophile', 'sjws', 'jews', 'wu', 'podesta', 'degeneracy', 'msm', 'comrade', 'pedophiles', 'gays', 'chad', 'asians', 'system', 'admins', 'pede', 'obese', 'vaccines', 'testosterone', 'pepe', 'leftists', 'pol', '#[', 'btfo', 'coats', 'supremacy', 'libs', 'merkel', 'jew']\n"
     ]
    }
   ],
   "source": [
    "print(sage.topK(eta,hate_vocab,100))"
   ]
  },
  {
   "cell_type": "markdown",
   "metadata": {},
   "source": [
    "Print words that are especially infrequent in hate posts"
   ]
  },
  {
   "cell_type": "code",
   "execution_count": 10,
   "metadata": {},
   "outputs": [
    {
     "name": "stdout",
     "output_type": "stream",
     "text": [
      "['players', 'season', '|', '%', '^^', 'player', '█', 'de', 'la', 'hi', 'fans', 'card', 'team', '3', 'switch', 'ball', '+', 'league', 'performed', '7', 'pc', 'series', '8', '6', 'app', 'moderators', 'match', 'g', 'map', '2', 'play', '<annoyed>', 'concerns', 'round', 'playing', 'luck', 'damage', 'played', 'bought', 'available', '<money>', 'product', 'price', '<tong>', 'submission', 'game', 'compose', 'thanks', 'automatically', 'contact', 'box', '<happy>', 'k', 'characters', 'store', '5', 'w', '<', 'recommend', 'depends', 'submit', 'cheap', 'driving', 'slow', '&', 'buying', 'sell', '0', 'trade', 'message', 'drive', 'o', 'range', 'st', 'games', 'roll', 'review', '<time>', 'questions', 'excited', '1', 'skills', 'remove', 'loved', 'music', 'brand', 'car', 'wiki', 'dark', 'expensive', 'track', 'shop', 'c', 'bed', 'fun', 'search', 'overall', 'add', 'final', 'favorite']\n"
     ]
    }
   ],
   "source": [
    "print(sage.topK(-eta,hate_vocab,100))"
   ]
  },
  {
   "cell_type": "code",
   "execution_count": 11,
   "metadata": {},
   "outputs": [
    {
     "data": {
      "image/png": "[encoded data removed]",
      "text/plain": [
       "<Figure size 432x288 with 1 Axes>"
      ]
     },
     "metadata": {},
     "output_type": "display_data"
    }
   ],
   "source": [
    "plt.hist(eta,20);"
   ]
  },
  {
   "cell_type": "code",
   "execution_count": 12,
   "metadata": {},
   "outputs": [
    {
     "data": {
      "image/png": "[encoded data removed]",
      "text/plain": [
       "<Figure size 432x288 with 1 Axes>"
      ]
     },
     "metadata": {},
     "output_type": "display_data"
    }
   ],
   "source": [
    "plt.plot(sorted(eta));"
   ]
  }
 ],
 "metadata": {
  "kernelspec": {
   "display_name": "Python [default]",
   "language": "python",
   "name": "python3"
  },
  "language_info": {
   "codemirror_mode": {
    "name": "ipython",
    "version": 3
   },
   "file_extension": ".py",
   "mimetype": "text/x-python",
   "name": "python",
   "nbconvert_exporter": "python",
   "pygments_lexer": "ipython3",
   "version": "3.6.5"
  }
 },
 "nbformat": 4,
 "nbformat_minor": 1
}
