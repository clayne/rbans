{
 "cells": [
  {
   "cell_type": "code",
   "execution_count": null,
   "metadata": {},
   "outputs": [],
   "source": [
    "'''\n",
    "This code block subsets our hate sample based on a list of hate words from SAGE\n",
    " \n",
    "'''\n",
    "\n",
    "# assumes list from SAGE of top 10000\n",
    "# assumes lemmatized data in [[[\"this\", \"format\"], 'hate'], [[\"right\", \"here\"], 'nonhate']]\n",
    "SAGE = hate_list\n",
    "HATE = hate_lemma\n",
    "\n",
    "# ----------------------------------------------------------\n",
    "\n",
    "def subsetter(hate_lemma, hate_list):\n",
    "    \n",
    "    subset = []\n",
    "    \n",
    "    for x in hate_lemma:\n",
    "        for body, key in x:\n",
    "            for bit in body:\n",
    "                if bit in hate_list:\n",
    "                    if x not in subset:\n",
    "                        subset.extend(x)\n",
    "    return subset\n",
    "            \n",
    "hate_subset = subsetter(HATE)"
   ]
  }
 ],
 "metadata": {
  "kernelspec": {
   "display_name": "Python 3",
   "language": "python",
   "name": "python3"
  },
  "language_info": {
   "codemirror_mode": {
    "name": "ipython",
    "version": 3
   },
   "file_extension": ".py",
   "mimetype": "text/x-python",
   "name": "python",
   "nbconvert_exporter": "python",
   "pygments_lexer": "ipython3",
   "version": "3.7.3"
  }
 },
 "nbformat": 4,
 "nbformat_minor": 2
}
